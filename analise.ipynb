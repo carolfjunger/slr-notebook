{
 "cells": [
  {
   "cell_type": "code",
   "execution_count": 1,
   "metadata": {},
   "outputs": [],
   "source": [
    "import pandas as pd \n",
    "import numpy as np\n",
    "import seaborn as sns\n",
    "import matplotlib.pyplot as plt\n",
    "import re"
   ]
  },
  {
   "cell_type": "code",
   "execution_count": 2,
   "metadata": {},
   "outputs": [],
   "source": [
    "# Read files from each libary\n",
    "df_acm = pd.read_csv(\"files/acm.csv\")\n",
    "df_ieee = pd.read_csv(\"files/ieee.csv\")\n",
    "df_scopus = pd.read_csv(\"files/scopus.csv\")"
   ]
  },
  {
   "cell_type": "code",
   "execution_count": 3,
   "metadata": {},
   "outputs": [],
   "source": [
    "# Set columns of interest \n",
    "selected_columns = ['Authors', 'Title', 'Year', 'DOI', 'Link', 'Abstract', 'Keywords', 'Database', 'Item Type', 'Journal', 'ISSN', 'Volume', 'Issue', 'Pages', 'Publisher', 'Notes', 'Key']"
   ]
  },
  {
   "cell_type": "code",
   "execution_count": 4,
   "metadata": {},
   "outputs": [],
   "source": [
    "# Renaming ACM columns \n",
    "df_acm = df_acm.rename(columns={\n",
    "    'Author': 'Authors',\n",
    "    'Publication Year': 'Year',\n",
    "    'Url': 'Link',\n",
    "    'Abstract Note': 'Abstract',\n",
    "    'Manual Tags': 'Keywords',\n",
    "    'Journal Abbreviation': 'Journal'\n",
    "})\n",
    "df_acm[\"Database\"] = \"acm\"\n",
    "df_acm = df_acm.loc[:, selected_columns]"
   ]
  },
  {
   "cell_type": "code",
   "execution_count": 5,
   "metadata": {},
   "outputs": [],
   "source": [
    "# Renaming IEEE columns \n",
    "ieee_translation = {\n",
    "    'Document Title': 'Title', \n",
    "    'Publication Year': 'Year', \n",
    "    'PDF Link': 'Link',\n",
    "    'Author Keywords': 'Keywords',\n",
    "    'Document Identifier': 'Item Type',\n",
    "}\n",
    "df_ieee = df_ieee.rename(columns=ieee_translation)\n",
    "df_ieee[\"Database\"] = \"ieee\"\n",
    "df_ieee['Pages'] = df_ieee['End Page'] - df_ieee['Start Page']\n",
    "df_ieee['Journal'] = None\n",
    "df_ieee['Notes'] = None\n",
    "df_ieee['Key'] = None\n",
    "df_ieee = df_ieee.loc[:, selected_columns]"
   ]
  },
  {
   "cell_type": "code",
   "execution_count": 6,
   "metadata": {},
   "outputs": [],
   "source": [
    "# Renaming scopus columns \n",
    "\n",
    "scopus_translation = {\n",
    "  'Page count': 'Pages'\n",
    "}\n",
    "df_scopus = df_scopus.rename(columns=scopus_translation)\n",
    "\n",
    "#'Journal', 'Notes', 'Key'\n",
    "df_scopus['Keywords'] = df_scopus['Author Keywords'] + ';' + df_scopus['Index Keywords']\n",
    "df_scopus[\"Database\"] = \"scopus\"\n",
    "df_scopus['Item Type'] = df_scopus['Document Type']\n",
    "df_scopus['Key'] = None\n",
    "df_scopus['Journal'] = None\n",
    "df_scopus['Notes'] = None\n",
    "df_scopus = df_scopus.loc[:, selected_columns]"
   ]
  },
  {
   "cell_type": "code",
   "execution_count": 7,
   "metadata": {},
   "outputs": [],
   "source": [
    "# Join all dfs\n",
    "df = pd.DataFrame(columns= selected_columns + ['Title Points', 'Abstract Points', 'Keywords Points'])\n",
    "df_concat = pd.concat([df, df_acm, df_ieee, df_scopus])"
   ]
  },
  {
   "cell_type": "code",
   "execution_count": 8,
   "metadata": {},
   "outputs": [],
   "source": [
    "# Normalize title\n",
    "df_concat[\"title_normalized\"] = (\n",
    "    df_concat['Title']\n",
    "    .str.strip() \n",
    "    .str.replace(r'\\s+', ' ', regex=True) \n",
    "    .str.lower() \n",
    "    .str.replace(r'[^\\w\\s]', '', regex=True)\n",
    ")"
   ]
  },
  {
   "cell_type": "code",
   "execution_count": 9,
   "metadata": {},
   "outputs": [],
   "source": [
    "ethical_terms = {   \n",
    "  'ethics': 5,\n",
    "  'ethical': 5,\n",
    "  'responsibility': 5,\n",
    "  'responsible': 5,\n",
    "  'moral': 5,\n",
    "  'fairness': 2,\n",
    "  'accountability': 3,\n",
    "  'accountable': 3,\n",
    "  'transparent': 2,\n",
    "  'transparency': 2,\n",
    "  'bias': 4,\n",
    "  'trust': 2,\n",
    "  'liable': 2,\n",
    "  'liability': 2,\n",
    "\n",
    "# interesting words to score, but not considered by the search engine\n",
    "\n",
    "  'explicability': 1,\n",
    "  'explainability': 1,\n",
    "  'interpretability': 1,\n",
    "  'understandability': 1,\n",
    "  'comprehensibility': 1,\n",
    "  'perception': 1,\n",
    "  'uncertainty': 1,\n",
    "  'understanding': 1\n",
    "}\n",
    "\n",
    "\n",
    "viz_term = {\n",
    "'visualisation': 10,\n",
    "'visualization': 10,\n",
    "'visual analytics': 10,\n",
    "\n",
    "# interesting words to score, but not considered by the search engine\n",
    " 'infovis': 5,\n",
    " 'graphical': 5,\n",
    " 'chart': 5,\n",
    " 'visualising': 8,\n",
    " 'visualizing': 8,\n",
    " 'datavis': 5\n",
    "}"
   ]
  },
  {
   "cell_type": "code",
   "execution_count": 10,
   "metadata": {},
   "outputs": [],
   "source": [
    "# Function that normalize a string\n",
    "def normalize_string(text):\n",
    "    text = text.strip()\n",
    "    text = re.sub(r'/s+', ' ', text)\n",
    "    text = text.replace('-', ' ')\n",
    "    text = text.lower()\n",
    "    return text"
   ]
  },
  {
   "cell_type": "code",
   "execution_count": 11,
   "metadata": {},
   "outputs": [],
   "source": [
    "# Function that calculate points of a text\n",
    "def calculate_points(value):\n",
    "   try:\n",
    "      points = 0\n",
    "      ethical_list = ethical_terms.keys()\n",
    "      points_abstract_ethical = 0\n",
    "      points_abstract_vis = 0\n",
    "\n",
    "      for term in ethical_list:\n",
    "         if(term in normalize_string(value)):\n",
    "            points += ethical_terms[term]\n",
    "            points_abstract_ethical += 1\n",
    "      \n",
    "       \n",
    "      viz_list = viz_term.keys()\n",
    "      for term in viz_list:\n",
    "         if(term in normalize_string(value)):\n",
    "            points += viz_term[term]\n",
    "            points_abstract_vis += 1\n",
    "   except:\n",
    "      return -1 # colunm value is nan\n",
    "   return points"
   ]
  },
  {
   "cell_type": "code",
   "execution_count": 12,
   "metadata": {},
   "outputs": [],
   "source": [
    "df_concat['Title Points'] = df_concat['Title'].apply(lambda x: calculate_points(x))\n",
    "df_concat['Abstract Points'] = df_concat['Abstract'].apply(lambda x: calculate_points(x))\n",
    "df_concat['Keywords Points'] = df_concat['Keywords'].apply(lambda x: calculate_points(x))"
   ]
  },
  {
   "cell_type": "code",
   "execution_count": 13,
   "metadata": {},
   "outputs": [],
   "source": [
    "df = df_concat.copy()\n",
    "df = df.reset_index()"
   ]
  },
  {
   "cell_type": "code",
   "execution_count": 15,
   "metadata": {},
   "outputs": [
    {
     "name": "stdout",
     "output_type": "stream",
     "text": [
      "total initial articles 879\n",
      "total initial articles by db\n",
      "Database\n",
      "acm        99\n",
      "ieee      101\n",
      "scopus    679\n",
      "dtype: int64\n",
      "**************************** removing duplicates **********************************\n",
      "articles removed 0\n",
      "total of articles 879\n",
      "total of articles by db:\n",
      "Database\n",
      "acm        99\n",
      "ieee      101\n",
      "scopus    679\n",
      "dtype: int64\n"
     ]
    }
   ],
   "source": [
    "total_files = df.shape[0]\n",
    "print(\"total initial articles\", total_files)\n",
    "print(\"total initial articles by db\")\n",
    "print(df.groupby(\"Database\").size())\n",
    "# df[df.duplicated(subset=['Title'], keep=False)][[\"title_normalized\", \"Year\"]].sort_values(\"title_normalized\")\n",
    "\n",
    "\n",
    "print(\"**************************** removing duplicates **********************************\")\n",
    "\n",
    "df.sort_values(\"Database\").drop_duplicates(subset=['title_normalized'])\n",
    "\n",
    "df = df.sort_values(\"Database\").drop_duplicates(subset=['title_normalized'])\n",
    "df\n",
    "\n",
    "\n",
    "print(\"articles removed\", total_files - df.shape[0])\n",
    "print(\"total of articles\", df.shape[0])\n",
    "print(\"total of articles by db:\")\n",
    "print(df.groupby(\"Database\").size())"
   ]
  },
  {
   "cell_type": "code",
   "execution_count": 16,
   "metadata": {},
   "outputs": [
    {
     "name": "stdout",
     "output_type": "stream",
     "text": [
      "Title Points\n",
      "count    879.000000\n",
      "mean       4.813424\n",
      "std        5.032175\n",
      "min        0.000000\n",
      "25%        0.000000\n",
      "50%        2.000000\n",
      "75%       10.000000\n",
      "max       20.000000\n",
      "Name: Title Points, dtype: float64\n",
      "Abstract Points\n",
      "count    879.000000\n",
      "mean      11.546075\n",
      "std        6.513337\n",
      "min       -1.000000\n",
      "25%        5.000000\n",
      "50%       12.000000\n",
      "75%       15.000000\n",
      "max       34.000000\n",
      "Name: Abstract Points, dtype: float64\n",
      "Keywords Points\n",
      "count    879.000000\n",
      "mean      12.067122\n",
      "std        6.384870\n",
      "min       -1.000000\n",
      "25%       12.000000\n",
      "50%       12.000000\n",
      "75%       15.000000\n",
      "max       30.000000\n",
      "Name: Keywords Points, dtype: float64\n"
     ]
    }
   ],
   "source": [
    "# Analysing colunm pontuation\n",
    "\n",
    "def describe_colunm(colunm):\n",
    "    print(colunm)\n",
    "    print(df[colunm].describe())\n",
    "\n",
    "\n",
    "describe_colunm('Title Points')\n",
    "describe_colunm('Abstract Points')\n",
    "describe_colunm('Keywords Points')"
   ]
  },
  {
   "cell_type": "code",
   "execution_count": 17,
   "metadata": {},
   "outputs": [],
   "source": [
    "df[\"Total Points\"] = df[\"Title Points\"] + df[\"Abstract Points\"] + df['Keywords Points']"
   ]
  },
  {
   "cell_type": "code",
   "execution_count": 18,
   "metadata": {},
   "outputs": [
    {
     "name": "stdout",
     "output_type": "stream",
     "text": [
      "filtering by year > 2014\n",
      "removed 255\n",
      "Database\n",
      "acm        78\n",
      "ieee       80\n",
      "scopus    466\n",
      "dtype: int64\n"
     ]
    }
   ],
   "source": [
    "# Applying E3 - Removing articles < 2014\n",
    "\n",
    "total_files = df.shape[0]\n",
    "df = df[df[\"Year\"] >= 2014]\n",
    "print(\"filtering by year > 2014\")\n",
    "print(\"removed\", total_files - df.shape[0])\n",
    "print(df.groupby(\"Database\").size())"
   ]
  },
  {
   "cell_type": "code",
   "execution_count": 19,
   "metadata": {},
   "outputs": [
    {
     "name": "stdout",
     "output_type": "stream",
     "text": [
      "624\n",
      "Removing those that the abstract doesn't score\n",
      "removed =  25\n"
     ]
    },
    {
     "data": {
      "text/plain": [
       "Database\n",
       "acm        73\n",
       "ieee       77\n",
       "scopus    449\n",
       "dtype: int64"
      ]
     },
     "execution_count": 19,
     "metadata": {},
     "output_type": "execute_result"
    }
   ],
   "source": [
    "# Applying E2 - Removing articles that dont explicitate an ethical aspect i.e. not scored at abstract \n",
    "\n",
    "df[df['Abstract Points'] == -1].groupby([\"Database\", \"Item Type\"]).size()\n",
    "df[df['Abstract Points'] == 0].groupby([\"Database\", \"Item Type\"]).size()\n",
    "\n",
    "print(df.shape[0])\n",
    "print('Removing those that the abstract doesn\\'t score')\n",
    "index_to_drop = df[df['Abstract Points'] < 1].index\n",
    "print(\"removed = \", len(index_to_drop))\n",
    "df = df.drop(index=index_to_drop)\n",
    "df.shape[0]\n",
    "df.groupby([\"Database\"]).size()\n"
   ]
  },
  {
   "cell_type": "code",
   "execution_count": 25,
   "metadata": {},
   "outputs": [
    {
     "name": "stdout",
     "output_type": "stream",
     "text": [
      "30.0\n"
     ]
    },
    {
     "data": {
      "image/png": "[encoded data removed]",
      "text/plain": [
       "<Figure size 640x480 with 1 Axes>"
      ]
     },
     "metadata": {},
     "output_type": "display_data"
    }
   ],
   "source": [
    "# Prioratizing by score\n",
    "\n",
    "print(df[\"Total Points\"].median())\n",
    "df_filter = df[df[\"Total Points\"] >= 50]\n",
    "\n",
    "plt.hist(x=df[\"Total Points\"], bins=10)\n",
    "\n",
    "plt.axvline(x=50, color='red', linestyle='-', label='Linha em x=50')\n",
    "\n",
    "plt.xlabel('Article Score')\n",
    "plt.ylabel('Frequency')\n",
    "plt.title('Total article score')\n",
    "\n",
    "plt.show()"
   ]
  },
  {
   "cell_type": "code",
   "execution_count": 27,
   "metadata": {},
   "outputs": [
    {
     "data": {
      "text/plain": [
       "(39, 22)"
      ]
     },
     "execution_count": 27,
     "metadata": {},
     "output_type": "execute_result"
    }
   ],
   "source": [
    "df_to_save = df_filter.drop('index', axis=1)\n",
    "\n",
    "df_to_save.to_csv('points_50.csv', index=False)  \n",
    "\n",
    "df_to_save.shape"
   ]
  },
  {
   "cell_type": "code",
   "execution_count": null,
   "metadata": {},
   "outputs": [],
   "source": []
  }
 ],
 "metadata": {
  "kernelspec": {
   "display_name": "venv",
   "language": "python",
   "name": "python3"
  },
  "language_info": {
   "codemirror_mode": {
    "name": "ipython",
    "version": 3
   },
   "file_extension": ".py",
   "mimetype": "text/x-python",
   "name": "python",
   "nbconvert_exporter": "python",
   "pygments_lexer": "ipython3",
   "version": "3.12.1"
  }
 },
 "nbformat": 4,
 "nbformat_minor": 2
}
